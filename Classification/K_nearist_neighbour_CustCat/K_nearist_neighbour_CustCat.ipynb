{
 "cells": [
  {
   "cell_type": "code",
   "execution_count": 1,
   "id": "b41469d4",
   "metadata": {},
   "outputs": [],
   "source": [
    "import numpy as np\n",
    "import matplotlib.pyplot as plt\n",
    "import pandas as pd\n",
    "from sklearn import preprocessing"
   ]
  },
  {
   "cell_type": "code",
   "execution_count": 2,
   "id": "9de5cbe5",
   "metadata": {},
   "outputs": [
    {
     "data": {
      "text/html": [
       "<div>\n",
       "<style scoped>\n",
       "    .dataframe tbody tr th:only-of-type {\n",
       "        vertical-align: middle;\n",
       "    }\n",
       "\n",
       "    .dataframe tbody tr th {\n",
       "        vertical-align: top;\n",
       "    }\n",
       "\n",
       "    .dataframe thead th {\n",
       "        text-align: right;\n",
       "    }\n",
       "</style>\n",
       "<table border=\"1\" class=\"dataframe\">\n",
       "  <thead>\n",
       "    <tr style=\"text-align: right;\">\n",
       "      <th></th>\n",
       "      <th>region</th>\n",
       "      <th>tenure</th>\n",
       "      <th>age</th>\n",
       "      <th>marital</th>\n",
       "      <th>address</th>\n",
       "      <th>income</th>\n",
       "      <th>ed</th>\n",
       "      <th>employ</th>\n",
       "      <th>retire</th>\n",
       "      <th>gender</th>\n",
       "      <th>reside</th>\n",
       "      <th>custcat</th>\n",
       "    </tr>\n",
       "  </thead>\n",
       "  <tbody>\n",
       "    <tr>\n",
       "      <th>0</th>\n",
       "      <td>2</td>\n",
       "      <td>13</td>\n",
       "      <td>44</td>\n",
       "      <td>1</td>\n",
       "      <td>9</td>\n",
       "      <td>64.0</td>\n",
       "      <td>4</td>\n",
       "      <td>5</td>\n",
       "      <td>0.0</td>\n",
       "      <td>0</td>\n",
       "      <td>2</td>\n",
       "      <td>1</td>\n",
       "    </tr>\n",
       "    <tr>\n",
       "      <th>1</th>\n",
       "      <td>3</td>\n",
       "      <td>11</td>\n",
       "      <td>33</td>\n",
       "      <td>1</td>\n",
       "      <td>7</td>\n",
       "      <td>136.0</td>\n",
       "      <td>5</td>\n",
       "      <td>5</td>\n",
       "      <td>0.0</td>\n",
       "      <td>0</td>\n",
       "      <td>6</td>\n",
       "      <td>4</td>\n",
       "    </tr>\n",
       "    <tr>\n",
       "      <th>2</th>\n",
       "      <td>3</td>\n",
       "      <td>68</td>\n",
       "      <td>52</td>\n",
       "      <td>1</td>\n",
       "      <td>24</td>\n",
       "      <td>116.0</td>\n",
       "      <td>1</td>\n",
       "      <td>29</td>\n",
       "      <td>0.0</td>\n",
       "      <td>1</td>\n",
       "      <td>2</td>\n",
       "      <td>3</td>\n",
       "    </tr>\n",
       "    <tr>\n",
       "      <th>3</th>\n",
       "      <td>2</td>\n",
       "      <td>33</td>\n",
       "      <td>33</td>\n",
       "      <td>0</td>\n",
       "      <td>12</td>\n",
       "      <td>33.0</td>\n",
       "      <td>2</td>\n",
       "      <td>0</td>\n",
       "      <td>0.0</td>\n",
       "      <td>1</td>\n",
       "      <td>1</td>\n",
       "      <td>1</td>\n",
       "    </tr>\n",
       "    <tr>\n",
       "      <th>4</th>\n",
       "      <td>2</td>\n",
       "      <td>23</td>\n",
       "      <td>30</td>\n",
       "      <td>1</td>\n",
       "      <td>9</td>\n",
       "      <td>30.0</td>\n",
       "      <td>1</td>\n",
       "      <td>2</td>\n",
       "      <td>0.0</td>\n",
       "      <td>0</td>\n",
       "      <td>4</td>\n",
       "      <td>3</td>\n",
       "    </tr>\n",
       "  </tbody>\n",
       "</table>\n",
       "</div>"
      ],
      "text/plain": [
       "   region  tenure  age  marital  address  income  ed  employ  retire  gender  \\\n",
       "0       2      13   44        1        9    64.0   4       5     0.0       0   \n",
       "1       3      11   33        1        7   136.0   5       5     0.0       0   \n",
       "2       3      68   52        1       24   116.0   1      29     0.0       1   \n",
       "3       2      33   33        0       12    33.0   2       0     0.0       1   \n",
       "4       2      23   30        1        9    30.0   1       2     0.0       0   \n",
       "\n",
       "   reside  custcat  \n",
       "0       2        1  \n",
       "1       6        4  \n",
       "2       2        3  \n",
       "3       1        1  \n",
       "4       4        3  "
      ]
     },
     "execution_count": 2,
     "metadata": {},
     "output_type": "execute_result"
    }
   ],
   "source": [
    "df = pd.read_csv('teleCust1000t.csv')\n",
    "df.head()"
   ]
  },
  {
   "cell_type": "code",
   "execution_count": 3,
   "id": "2d0dbc0a",
   "metadata": {},
   "outputs": [
    {
     "data": {
      "text/plain": [
       "(1000, 12)"
      ]
     },
     "execution_count": 3,
     "metadata": {},
     "output_type": "execute_result"
    }
   ],
   "source": [
    "df.shape"
   ]
  },
  {
   "cell_type": "code",
   "execution_count": 4,
   "id": "33704f0a",
   "metadata": {},
   "outputs": [
    {
     "data": {
      "text/plain": [
       "custcat\n",
       "3          281\n",
       "1          266\n",
       "4          236\n",
       "2          217\n",
       "dtype: int64"
      ]
     },
     "execution_count": 4,
     "metadata": {},
     "output_type": "execute_result"
    }
   ],
   "source": [
    "df[['custcat']].value_counts()"
   ]
  },
  {
   "cell_type": "code",
   "execution_count": 5,
   "id": "2e7895ba",
   "metadata": {},
   "outputs": [
    {
     "data": {
      "image/png": "[encoded data removed]",
      "text/plain": [
       "<Figure size 432x288 with 1 Axes>"
      ]
     },
     "metadata": {
      "needs_background": "light"
     },
     "output_type": "display_data"
    }
   ],
   "source": [
    "df[['income']].hist(bins=50);"
   ]
  },
  {
   "cell_type": "code",
   "execution_count": 6,
   "id": "c6d92978",
   "metadata": {},
   "outputs": [
    {
     "data": {
      "text/plain": [
       "array([[  2.,  13.,  44.,   1.,   9.,  64.,   4.,   5.,   0.,   0.,   2.],\n",
       "       [  3.,  11.,  33.,   1.,   7., 136.,   5.,   5.,   0.,   0.,   6.],\n",
       "       [  3.,  68.,  52.,   1.,  24., 116.,   1.,  29.,   0.,   1.,   2.],\n",
       "       [  2.,  33.,  33.,   0.,  12.,  33.,   2.,   0.,   0.,   1.,   1.],\n",
       "       [  2.,  23.,  30.,   1.,   9.,  30.,   1.,   2.,   0.,   0.,   4.]])"
      ]
     },
     "execution_count": 6,
     "metadata": {},
     "output_type": "execute_result"
    }
   ],
   "source": [
    "x = np.asanyarray(df[['region', 'tenure', 'age', 'marital', 'address', 'income', 'ed', 'employ','retire', 'gender', 'reside']])\n",
    "x[0:5]"
   ]
  },
  {
   "cell_type": "code",
   "execution_count": 7,
   "id": "fbed5d82",
   "metadata": {},
   "outputs": [
    {
     "data": {
      "text/plain": [
       "array([1, 4, 3, 1, 3], dtype=int64)"
      ]
     },
     "execution_count": 7,
     "metadata": {},
     "output_type": "execute_result"
    }
   ],
   "source": [
    "y = np.asanyarray(df['custcat'])\n",
    "y[0:5]"
   ]
  },
  {
   "cell_type": "code",
   "execution_count": 8,
   "id": "d1065684",
   "metadata": {},
   "outputs": [
    {
     "name": "stdout",
     "output_type": "stream",
     "text": [
      "[[  2.  13.  44.   1.   9.  64.   4.   5.   0.   0.   2.]\n",
      " [  3.  11.  33.   1.   7. 136.   5.   5.   0.   0.   6.]\n",
      " [  3.  68.  52.   1.  24. 116.   1.  29.   0.   1.   2.]\n",
      " [  2.  33.  33.   0.  12.  33.   2.   0.   0.   1.   1.]\n",
      " [  2.  23.  30.   1.   9.  30.   1.   2.   0.   0.   4.]]\n",
      "[[-0.02696767 -1.055125    0.18450456  1.0100505  -0.25303431 -0.12650641\n",
      "   1.0877526  -0.5941226  -0.22207644 -1.03459817 -0.23065004]\n",
      " [ 1.19883553 -1.14880563 -0.69181243  1.0100505  -0.4514148   0.54644972\n",
      "   1.9062271  -0.5941226  -0.22207644 -1.03459817  2.55666158]\n",
      " [ 1.19883553  1.52109247  0.82182601  1.0100505   1.23481934  0.35951747\n",
      "  -1.36767088  1.78752803 -0.22207644  0.96655883 -0.23065004]\n",
      " [-0.02696767 -0.11831864 -0.69181243 -0.9900495   0.04453642 -0.41625141\n",
      "  -0.54919639 -1.09029981 -0.22207644  0.96655883 -0.92747794]\n",
      " [-0.02696767 -0.58672182 -0.93080797  1.0100505  -0.25303431 -0.44429125\n",
      "  -1.36767088 -0.89182893 -0.22207644 -1.03459817  1.16300577]]\n"
     ]
    }
   ],
   "source": [
    "print(x[0:5])\n",
    "scaler = preprocessing.StandardScaler().fit(x)\n",
    "x = scaler.transform(x.astype(float))\n",
    "print(x[0:5])\n"
   ]
  },
  {
   "cell_type": "code",
   "execution_count": 9,
   "id": "5ac3e2db",
   "metadata": {},
   "outputs": [
    {
     "name": "stdout",
     "output_type": "stream",
     "text": [
      "x_train shape = (800, 11)\n",
      "x_test shape = (200, 11)\n",
      "y_train = (800,)\n",
      "y_test = (200,)\n"
     ]
    }
   ],
   "source": [
    "# Standardization of datasets \n",
    "from sklearn.model_selection import train_test_split\n",
    "x_train, x_test, y_train, y_test = train_test_split(x, y, test_size=0.2, random_state=4)\n",
    "print(f'x_train shape = {x_train.shape}\\nx_test shape = {x_test.shape}\\ny_train = {y_train.shape}\\ny_test = {y_test.shape}')"
   ]
  },
  {
   "cell_type": "code",
   "execution_count": 10,
   "id": "29cad792",
   "metadata": {},
   "outputs": [],
   "source": [
    "from sklearn.neighbors import KNeighborsClassifier "
   ]
  },
  {
   "cell_type": "markdown",
   "id": "8a95e6ce",
   "metadata": {},
   "source": [
    "# Training"
   ]
  },
  {
   "cell_type": "code",
   "execution_count": 11,
   "id": "c8902bf3",
   "metadata": {},
   "outputs": [
    {
     "data": {
      "text/plain": [
       "KNeighborsClassifier(n_neighbors=4)"
      ]
     },
     "execution_count": 11,
     "metadata": {},
     "output_type": "execute_result"
    }
   ],
   "source": [
    "k = 4\n",
    "knn_model = KNeighborsClassifier(n_neighbors = k).fit(x_train, y_train)\n",
    "knn_model"
   ]
  },
  {
   "cell_type": "code",
   "execution_count": 12,
   "id": "7ff6c838",
   "metadata": {},
   "outputs": [
    {
     "name": "stdout",
     "output_type": "stream",
     "text": [
      "y_hat = [1 1 3 2 4]\n",
      "y_test = [4 1 1 2 4]\n"
     ]
    }
   ],
   "source": [
    "y_hat = knn_model.predict(x_test)\n",
    "print(f'y_hat = {y_hat[0:5]}\\ny_test = {y_test[0:5]}')"
   ]
  },
  {
   "cell_type": "markdown",
   "id": "4a27cb11",
   "metadata": {},
   "source": [
    "# Accuracy Evaluation"
   ]
  },
  {
   "cell_type": "code",
   "execution_count": 13,
   "id": "03c6cfc2",
   "metadata": {},
   "outputs": [
    {
     "name": "stdout",
     "output_type": "stream",
     "text": [
      "train set accuracy =  0.5475\n",
      "test set accuracy =  0.32\n"
     ]
    }
   ],
   "source": [
    "from sklearn import metrics\n",
    "print('train set accuracy = ',metrics.accuracy_score(knn_model.predict(x_train), y_train))\n",
    "print('test set accuracy = ',metrics.accuracy_score(knn_model.predict(x_test), y_test))"
   ]
  },
  {
   "cell_type": "code",
   "execution_count": 34,
   "id": "baeec34a",
   "metadata": {},
   "outputs": [
    {
     "name": "stdout",
     "output_type": "stream",
     "text": [
      "______________k = 1_______________________________________________\n",
      "train set accuracy = 1.0\n",
      "test set accuracy  = 0.3\n",
      "______________k = 2_______________________________________________\n",
      "train set accuracy = 0.6175\n",
      "test set accuracy  = 0.29\n",
      "______________k = 3_______________________________________________\n",
      "train set accuracy = 0.56875\n",
      "test set accuracy  = 0.315\n",
      "______________k = 4_______________________________________________\n",
      "train set accuracy = 0.5475\n",
      "test set accuracy  = 0.32\n",
      "______________k = 5_______________________________________________\n",
      "train set accuracy = 0.5375\n",
      "test set accuracy  = 0.315\n",
      "______________k = 6_______________________________________________\n",
      "train set accuracy = 0.51625\n",
      "test set accuracy  = 0.31\n",
      "______________k = 7_______________________________________________\n",
      "train set accuracy = 0.5125\n",
      "test set accuracy  = 0.335\n",
      "______________k = 8_______________________________________________\n",
      "train set accuracy = 0.4925\n",
      "test set accuracy  = 0.325\n",
      "______________k = 9_______________________________________________\n",
      "train set accuracy = 0.5025\n",
      "test set accuracy  = 0.34\n",
      "______________k = 10_______________________________________________\n",
      "train set accuracy = 0.4875\n",
      "test set accuracy  = 0.33\n"
     ]
    }
   ],
   "source": [
    "ks = np.zeros((1, 10))\n",
    "test_acc = np.zeros((1, 10))\n",
    "for i in range(1, 11):\n",
    "    knn_model = KNeighborsClassifier(n_neighbors = i).fit(x_train, y_train)\n",
    "    yhat = knn_model.predict(x_test)\n",
    "    train_set_accuracy = metrics.accuracy_score(knn_model.predict(x_train), y_train)\n",
    "    test_set_accuracy  = metrics.accuracy_score(knn_model.predict(x_test), y_test)\n",
    "    print(f'______________k = {i}_______________________________________________')\n",
    "    print(f'train set accuracy = {train_set_accuracy}')\n",
    "    print(f'test set accuracy  = {test_set_accuracy}')\n",
    "    ks[0, i - 1] = i\n",
    "    test_acc[0, i - 1] = test_set_accuracy\n",
    "    "
   ]
  },
  {
   "cell_type": "code",
   "execution_count": 38,
   "id": "1c4e636b",
   "metadata": {},
   "outputs": [
    {
     "data": {
      "image/png": "[encoded data removed]",
      "text/plain": [
       "<Figure size 432x288 with 1 Axes>"
      ]
     },
     "metadata": {
      "needs_background": "light"
     },
     "output_type": "display_data"
    }
   ],
   "source": [
    "plt.scatter(ks, test_acc, c = 'b', )\n",
    "plt.xlabel('k')\n",
    "plt.ylabel('test set accuracy')\n",
    "plt.show()"
   ]
  }
 ],
 "metadata": {
  "kernelspec": {
   "display_name": "Python 3",
   "language": "python",
   "name": "python3"
  },
  "language_info": {
   "codemirror_mode": {
    "name": "ipython",
    "version": 3
   },
   "file_extension": ".py",
   "mimetype": "text/x-python",
   "name": "python",
   "nbconvert_exporter": "python",
   "pygments_lexer": "ipython3",
   "version": "3.8.8"
  }
 },
 "nbformat": 4,
 "nbformat_minor": 5
}
