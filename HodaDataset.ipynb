{
 "cells": [
  {
   "cell_type": "code",
   "execution_count": 6,
   "id": "9ba552ad",
   "metadata": {
    "scrolled": true
   },
   "outputs": [],
   "source": [
    "import matplotlib.pyplot as plt\n",
    "import numpy as np\n",
    "from skimage.transform import resize\n",
    "from scipy import io"
   ]
  },
  {
   "cell_type": "code",
   "execution_count": 7,
   "id": "c658f254",
   "metadata": {},
   "outputs": [],
   "source": [
    "dataset = io.matlab.loadmat('.\\data\\Data_hoda_full.mat')"
   ]
  },
  {
   "cell_type": "code",
   "execution_count": 9,
   "id": "08a521f0",
   "metadata": {},
   "outputs": [
    {
     "data": {
      "text/plain": [
       "{'__header__': b'MATLAB 5.0 MAT-file, Platform: PCWIN64, Created on: Thu Jun 30 20:26:30 2011',\n",
       " '__version__': '1.0',\n",
       " '__globals__': [],\n",
       " 'Data': array([[array([[  0,   0,   0,   0, 255, 255,   0,   0,   0,   0,   0,   0,   0,\n",
       "                   0,   0,   0,   0,   0,   0,   0],\n",
       "                [  0,   0,   0, 255, 255, 255, 255,   0,   0,   0,   0,   0,   0,\n",
       "                   0,   0,   0,   0,   0,   0,   0],\n",
       "                [  0,   0, 255, 255, 255, 255, 255,   0,   0,   0,   0,   0,   0,\n",
       "                   0,   0,   0,   0, 255, 255,   0],\n",
       "                [  0, 255, 255, 255, 255, 255,   0,   0,   0,   0,   0,   0,   0,\n",
       "                   0,   0,   0, 255, 255, 255, 255],\n",
       "                [  0, 255, 255, 255, 255,   0,   0,   0,   0,   0,   0,   0,   0,\n",
       "                   0,   0, 255, 255, 255, 255,   0],\n",
       "                [  0, 255, 255, 255,   0,   0,   0,   0,   0,   0,   0,   0,   0,\n",
       "                   0, 255, 255, 255, 255, 255,   0],\n",
       "                [255, 255, 255, 255,   0,   0,   0,   0,   0,   0,   0,   0,   0,\n",
       "                 255, 255, 255, 255, 255,   0,   0],\n",
       "                [255, 255, 255,   0,   0,   0,   0,   0,   0,   0,   0,   0, 255,\n",
       "                 255, 255, 255, 255,   0,   0,   0],\n",
       "                [255, 255, 255,   0,   0,   0,   0,   0,   0,   0, 255, 255, 255,\n",
       "                 255, 255, 255, 255,   0,   0,   0],\n",
       "                [255, 255, 255,   0,   0,   0,   0,   0,   0, 255, 255, 255, 255,\n",
       "                 255, 255, 255,   0,   0,   0,   0],\n",
       "                [255, 255, 255, 255, 255, 255, 255, 255, 255, 255, 255, 255, 255,\n",
       "                 255, 255,   0,   0,   0,   0,   0],\n",
       "                [255, 255, 255, 255, 255, 255, 255, 255, 255, 255, 255, 255, 255,\n",
       "                 255,   0,   0,   0,   0,   0,   0],\n",
       "                [  0, 255, 255, 255, 255, 255, 255, 255, 255, 255, 255, 255, 255,\n",
       "                   0,   0,   0,   0,   0,   0,   0],\n",
       "                [  0,   0,   0,   0, 255, 255, 255, 255, 255, 255, 255, 255, 255,\n",
       "                   0,   0,   0,   0,   0,   0,   0],\n",
       "                [  0,   0,   0,   0,   0,   0,   0, 255, 255, 255, 255, 255,   0,\n",
       "                   0,   0,   0,   0,   0,   0,   0],\n",
       "                [  0,   0,   0,   0,   0,   0,   0, 255, 255, 255, 255,   0,   0,\n",
       "                   0,   0,   0,   0,   0,   0,   0],\n",
       "                [  0,   0,   0,   0,   0,   0, 255, 255, 255, 255, 255,   0,   0,\n",
       "                   0,   0,   0,   0,   0,   0,   0],\n",
       "                [  0,   0,   0,   0,   0,   0, 255, 255, 255, 255,   0,   0,   0,\n",
       "                   0,   0,   0,   0,   0,   0,   0],\n",
       "                [  0,   0,   0,   0,   0, 255, 255, 255, 255, 255,   0,   0,   0,\n",
       "                   0,   0,   0,   0,   0,   0,   0],\n",
       "                [  0,   0,   0,   0,   0, 255, 255, 255, 255,   0,   0,   0,   0,\n",
       "                   0,   0,   0,   0,   0,   0,   0],\n",
       "                [  0,   0,   0,   0,   0, 255, 255, 255, 255,   0,   0,   0,   0,\n",
       "                   0,   0,   0,   0,   0,   0,   0],\n",
       "                [  0,   0,   0,   0,   0, 255, 255, 255, 255,   0,   0,   0,   0,\n",
       "                   0,   0,   0,   0,   0,   0,   0],\n",
       "                [  0,   0,   0,   0,   0, 255, 255, 255,   0,   0,   0,   0,   0,\n",
       "                   0,   0,   0,   0,   0,   0,   0],\n",
       "                [  0,   0,   0,   0, 255, 255, 255, 255,   0,   0,   0,   0,   0,\n",
       "                   0,   0,   0,   0,   0,   0,   0],\n",
       "                [  0,   0,   0,   0, 255, 255, 255, 255,   0,   0,   0,   0,   0,\n",
       "                   0,   0,   0,   0,   0,   0,   0],\n",
       "                [  0,   0,   0,   0, 255, 255, 255,   0,   0,   0,   0,   0,   0,\n",
       "                   0,   0,   0,   0,   0,   0,   0],\n",
       "                [  0,   0,   0,   0,   0, 255, 255,   0,   0,   0,   0,   0,   0,\n",
       "                   0,   0,   0,   0,   0,   0,   0]], dtype=uint8)               ],\n",
       "        [array([[  0,   0,   0,   0,   0,   0,   0,   0,   0,   0, 255, 255,   0,\n",
       "                   0,   0,   0,   0,   0,   0,   0,   0],\n",
       "                [  0,   0,   0,   0,   0,   0,   0,   0,   0, 255, 255, 255, 255,\n",
       "                   0,   0,   0,   0,   0,   0,   0,   0],\n",
       "                [  0,   0,   0,   0,   0,   0,   0,   0, 255, 255, 255, 255, 255,\n",
       "                 255,   0,   0,   0,   0,   0,   0,   0],\n",
       "                [  0,   0,   0,   0,   0,   0,   0,   0, 255, 255, 255, 255, 255,\n",
       "                 255, 255,   0,   0,   0,   0,   0,   0],\n",
       "                [  0,   0,   0,   0,   0,   0, 255, 255, 255, 255, 255, 255, 255,\n",
       "                 255, 255,   0,   0,   0,   0,   0,   0],\n",
       "                [  0,   0,   0,   0,   0, 255, 255, 255, 255, 255, 255, 255, 255,\n",
       "                 255, 255, 255,   0,   0,   0,   0,   0],\n",
       "                [  0,   0,   0,   0, 255, 255, 255, 255, 255,   0,   0,   0,   0,\n",
       "                 255, 255, 255, 255,   0,   0,   0,   0],\n",
       "                [  0,   0,   0,   0, 255, 255, 255, 255,   0,   0,   0,   0,   0,\n",
       "                   0, 255, 255, 255,   0,   0,   0,   0],\n",
       "                [  0,   0,   0, 255, 255, 255, 255,   0,   0,   0,   0,   0,   0,\n",
       "                   0,   0, 255, 255, 255,   0,   0,   0],\n",
       "                [  0,   0, 255, 255, 255, 255,   0,   0,   0,   0,   0,   0,   0,\n",
       "                   0,   0, 255, 255, 255, 255,   0,   0],\n",
       "                [  0, 255, 255, 255, 255, 255,   0,   0,   0,   0,   0,   0,   0,\n",
       "                   0,   0, 255, 255, 255, 255, 255,   0],\n",
       "                [  0, 255, 255, 255, 255,   0,   0,   0,   0,   0,   0,   0,   0,\n",
       "                   0,   0,   0, 255, 255, 255, 255,   0],\n",
       "                [255, 255, 255, 255,   0,   0,   0,   0,   0,   0,   0, 255, 255,\n",
       "                   0,   0,   0,   0, 255, 255, 255, 255],\n",
       "                [255, 255, 255, 255,   0,   0,   0,   0,   0,   0, 255, 255, 255,\n",
       "                 255,   0,   0,   0, 255, 255, 255, 255],\n",
       "                [255, 255, 255,   0,   0,   0,   0,   0,   0, 255, 255, 255, 255,\n",
       "                 255,   0,   0,   0, 255, 255, 255, 255],\n",
       "                [255, 255, 255,   0,   0,   0,   0,   0,   0, 255, 255, 255, 255,\n",
       "                 255,   0,   0,   0, 255, 255, 255, 255],\n",
       "                [255, 255, 255,   0,   0,   0,   0,   0, 255, 255, 255, 255, 255,\n",
       "                 255, 255,   0, 255, 255, 255, 255,   0],\n",
       "                [  0, 255,   0,   0,   0,   0, 255, 255, 255, 255, 255, 255, 255,\n",
       "                 255, 255, 255, 255, 255, 255, 255,   0],\n",
       "                [  0,   0,   0,   0,   0, 255, 255, 255, 255, 255, 255, 255, 255,\n",
       "                 255,   0, 255, 255, 255, 255,   0,   0],\n",
       "                [  0,   0,   0,   0, 255, 255, 255, 255, 255,   0,   0,   0,   0,\n",
       "                   0,   0,   0,   0,   0,   0,   0,   0]], dtype=uint8)          ],\n",
       "        [array([[  0, 255, 255, 255, 255, 255, 255, 255, 255,   0,   0,   0, 255,\n",
       "                 255,   0],\n",
       "                [  0, 255, 255, 255, 255, 255, 255, 255, 255, 255, 255, 255, 255,\n",
       "                 255,   0],\n",
       "                [255, 255, 255, 255, 255, 255, 255, 255, 255, 255, 255, 255, 255,\n",
       "                 255, 255],\n",
       "                [255, 255, 255, 255, 255,   0, 255, 255, 255,   0, 255, 255, 255,\n",
       "                 255, 255],\n",
       "                [255, 255, 255, 255,   0,   0,   0,   0,   0,   0, 255, 255, 255,\n",
       "                 255, 255],\n",
       "                [255, 255, 255, 255, 255, 255, 255, 255, 255, 255, 255, 255, 255,\n",
       "                 255, 255],\n",
       "                [255, 255, 255, 255, 255, 255, 255, 255, 255, 255, 255, 255, 255,\n",
       "                 255,   0],\n",
       "                [  0, 255, 255, 255, 255, 255, 255, 255, 255, 255, 255, 255, 255,\n",
       "                 255,   0],\n",
       "                [  0,   0, 255, 255, 255, 255, 255, 255, 255, 255, 255, 255, 255,\n",
       "                   0,   0],\n",
       "                [  0,   0,   0,   0, 255,   0, 255, 255, 255,   0,   0,   0,   0,\n",
       "                   0,   0]], dtype=uint8)                                        ],\n",
       "        ...,\n",
       "        [array([[  0, 255, 255, 255,   0,   0,   0,   0,   0,   0,   0,   0, 255,\n",
       "                 255,   0],\n",
       "                [255, 255, 255, 255,   0,   0,   0,   0,   0,   0,   0,   0, 255,\n",
       "                 255, 255],\n",
       "                [  0, 255, 255, 255, 255,   0,   0,   0,   0,   0,   0,   0, 255,\n",
       "                 255, 255],\n",
       "                [  0, 255, 255, 255, 255,   0,   0,   0,   0,   0,   0, 255, 255,\n",
       "                 255, 255],\n",
       "                [  0, 255, 255, 255, 255, 255,   0,   0,   0,   0,   0, 255, 255,\n",
       "                 255, 255],\n",
       "                [  0, 255, 255, 255, 255, 255,   0,   0, 255, 255, 255, 255, 255,\n",
       "                 255,   0],\n",
       "                [  0,   0, 255, 255, 255, 255, 255, 255, 255, 255, 255, 255, 255,\n",
       "                   0,   0],\n",
       "                [  0,   0, 255, 255, 255, 255, 255, 255, 255, 255, 255,   0,   0,\n",
       "                   0,   0],\n",
       "                [  0,   0, 255, 255, 255, 255,   0,   0,   0,   0,   0,   0,   0,\n",
       "                   0,   0],\n",
       "                [  0,   0, 255, 255, 255, 255,   0,   0,   0,   0,   0,   0,   0,\n",
       "                   0,   0],\n",
       "                [  0,   0, 255, 255, 255, 255,   0,   0,   0,   0,   0,   0,   0,\n",
       "                   0,   0],\n",
       "                [  0,   0, 255, 255, 255, 255,   0,   0,   0,   0,   0,   0,   0,\n",
       "                   0,   0],\n",
       "                [  0,   0, 255, 255, 255, 255,   0,   0,   0,   0,   0,   0,   0,\n",
       "                   0,   0],\n",
       "                [  0,   0, 255, 255, 255, 255,   0,   0,   0,   0,   0,   0,   0,\n",
       "                   0,   0],\n",
       "                [  0,   0, 255, 255, 255, 255,   0,   0,   0,   0,   0,   0,   0,\n",
       "                   0,   0],\n",
       "                [  0,   0, 255, 255, 255, 255,   0,   0,   0,   0,   0,   0,   0,\n",
       "                   0,   0],\n",
       "                [  0,   0,   0, 255, 255, 255,   0,   0,   0,   0,   0,   0,   0,\n",
       "                   0,   0],\n",
       "                [  0,   0,   0, 255, 255, 255,   0,   0,   0,   0,   0,   0,   0,\n",
       "                   0,   0],\n",
       "                [  0,   0,   0, 255, 255, 255,   0,   0,   0,   0,   0,   0,   0,\n",
       "                   0,   0],\n",
       "                [  0,   0,   0,   0, 255, 255, 255,   0,   0,   0,   0,   0,   0,\n",
       "                   0,   0],\n",
       "                [  0,   0,   0,   0, 255, 255, 255,   0,   0,   0,   0,   0,   0,\n",
       "                   0,   0],\n",
       "                [  0,   0,   0, 255, 255, 255, 255,   0,   0,   0,   0,   0,   0,\n",
       "                   0,   0],\n",
       "                [  0,   0,   0,   0, 255, 255, 255, 255,   0,   0,   0,   0,   0,\n",
       "                   0,   0],\n",
       "                [  0,   0,   0,   0,   0, 255, 255, 255,   0,   0,   0,   0,   0,\n",
       "                   0,   0],\n",
       "                [  0,   0,   0,   0,   0,   0,   0, 255,   0,   0,   0,   0,   0,\n",
       "                   0,   0]], dtype=uint8)                                        ],\n",
       "        [array([[  0,   0,   0,   0,   0,   0, 255, 255, 255,   0,   0,   0,   0,\n",
       "                   0,   0,   0,   0,   0],\n",
       "                [  0,   0,   0,   0,   0,   0, 255, 255, 255, 255,   0,   0,   0,\n",
       "                   0,   0,   0,   0,   0],\n",
       "                [  0,   0,   0,   0,   0, 255, 255, 255, 255, 255,   0,   0,   0,\n",
       "                   0,   0,   0,   0,   0],\n",
       "                [  0,   0,   0,   0,   0, 255, 255, 255, 255,   0,   0,   0,   0,\n",
       "                   0,   0,   0,   0,   0],\n",
       "                [  0,   0,   0,   0,   0, 255, 255,   0,   0,   0,   0,   0,   0,\n",
       "                   0,   0,   0,   0,   0],\n",
       "                [  0,   0,   0,   0,   0, 255, 255,   0,   0,   0,   0,   0,   0,\n",
       "                   0,   0,   0, 255, 255],\n",
       "                [  0,   0,   0,   0, 255, 255, 255,   0,   0,   0,   0,   0,   0,\n",
       "                   0,   0,   0, 255, 255],\n",
       "                [  0,   0,   0,   0, 255, 255, 255,   0,   0,   0,   0,   0,   0,\n",
       "                   0,   0, 255, 255, 255],\n",
       "                [  0,   0,   0, 255, 255, 255, 255,   0,   0,   0,   0,   0,   0,\n",
       "                   0,   0, 255, 255, 255],\n",
       "                [  0,   0,   0, 255, 255, 255, 255,   0,   0,   0,   0,   0,   0,\n",
       "                   0, 255, 255, 255,   0],\n",
       "                [  0,   0,   0, 255, 255, 255,   0,   0,   0,   0,   0,   0,   0,\n",
       "                 255, 255, 255, 255,   0],\n",
       "                [  0,   0,   0, 255, 255, 255,   0,   0,   0,   0,   0, 255, 255,\n",
       "                 255, 255, 255,   0,   0],\n",
       "                [  0,   0,   0, 255, 255, 255,   0,   0,   0,   0,   0, 255, 255,\n",
       "                 255, 255,   0,   0,   0],\n",
       "                [  0,   0,   0,   0, 255, 255, 255,   0,   0,   0, 255, 255, 255,\n",
       "                 255,   0,   0,   0,   0],\n",
       "                [  0,   0,   0,   0, 255, 255, 255, 255, 255, 255, 255, 255, 255,\n",
       "                 255,   0,   0,   0,   0],\n",
       "                [  0,   0,   0,   0, 255, 255, 255, 255, 255, 255, 255, 255, 255,\n",
       "                   0,   0,   0,   0,   0],\n",
       "                [  0,   0,   0,   0,   0, 255, 255, 255, 255, 255, 255, 255,   0,\n",
       "                   0,   0,   0,   0,   0],\n",
       "                [  0,   0,   0,   0,   0,   0, 255, 255, 255, 255, 255,   0,   0,\n",
       "                   0,   0,   0,   0,   0],\n",
       "                [  0,   0,   0,   0,   0,   0,   0, 255, 255, 255,   0,   0,   0,\n",
       "                   0,   0,   0,   0,   0],\n",
       "                [  0,   0,   0,   0,   0,   0, 255, 255, 255,   0,   0,   0,   0,\n",
       "                   0,   0,   0,   0,   0],\n",
       "                [  0,   0,   0,   0,   0, 255, 255, 255, 255,   0,   0,   0,   0,\n",
       "                   0,   0,   0,   0,   0],\n",
       "                [  0,   0,   0,   0,   0, 255, 255, 255, 255,   0,   0,   0,   0,\n",
       "                   0,   0,   0,   0,   0],\n",
       "                [  0,   0,   0,   0, 255, 255, 255, 255,   0,   0,   0,   0,   0,\n",
       "                   0,   0,   0,   0,   0],\n",
       "                [  0,   0,   0, 255, 255, 255, 255,   0,   0,   0,   0,   0,   0,\n",
       "                   0,   0,   0,   0,   0],\n",
       "                [  0,   0,   0, 255, 255, 255, 255,   0,   0,   0,   0,   0,   0,\n",
       "                   0,   0,   0,   0,   0],\n",
       "                [  0,   0,   0, 255, 255, 255,   0,   0,   0,   0,   0,   0,   0,\n",
       "                   0,   0,   0,   0,   0],\n",
       "                [  0,   0, 255, 255, 255, 255,   0,   0,   0,   0,   0,   0,   0,\n",
       "                   0,   0,   0,   0,   0],\n",
       "                [  0,   0, 255, 255, 255,   0,   0,   0,   0,   0,   0,   0,   0,\n",
       "                   0,   0,   0,   0,   0],\n",
       "                [  0,   0, 255, 255, 255,   0,   0,   0,   0,   0,   0,   0,   0,\n",
       "                   0,   0,   0,   0,   0],\n",
       "                [  0, 255, 255, 255,   0,   0,   0,   0,   0,   0,   0,   0,   0,\n",
       "                   0,   0,   0,   0,   0],\n",
       "                [255, 255, 255,   0,   0,   0,   0,   0,   0,   0,   0,   0,   0,\n",
       "                   0,   0,   0,   0,   0],\n",
       "                [255, 255, 255,   0,   0,   0,   0,   0,   0,   0,   0,   0,   0,\n",
       "                   0,   0,   0,   0,   0],\n",
       "                [255, 255, 255,   0,   0,   0,   0,   0,   0,   0,   0,   0,   0,\n",
       "                   0,   0,   0,   0,   0],\n",
       "                [255, 255, 255,   0,   0,   0,   0,   0,   0,   0,   0,   0,   0,\n",
       "                   0,   0,   0,   0,   0],\n",
       "                [255, 255, 255, 255,   0,   0,   0,   0,   0,   0,   0,   0,   0,\n",
       "                   0,   0,   0,   0,   0]], dtype=uint8)                         ],\n",
       "        [array([[  0,   0,   0,   0, 255, 255, 255, 255, 255, 255, 255, 255,   0,\n",
       "                   0,   0,   0,   0,   0,   0,   0, 255, 255, 255, 255, 255],\n",
       "                [  0,   0, 255, 255, 255, 255, 255, 255, 255, 255, 255, 255,   0,\n",
       "                   0,   0,   0,   0,   0,   0, 255, 255, 255, 255, 255, 255],\n",
       "                [  0,   0, 255, 255, 255, 255, 255,   0, 255, 255, 255,   0,   0,\n",
       "                   0,   0,   0,   0,   0,   0, 255, 255, 255, 255, 255, 255],\n",
       "                [  0, 255, 255, 255, 255, 255,   0,   0, 255, 255, 255,   0,   0,\n",
       "                   0,   0,   0,   0,   0, 255, 255, 255, 255, 255, 255, 255],\n",
       "                [  0, 255, 255, 255, 255,   0,   0,   0,   0,   0,   0,   0,   0,\n",
       "                   0,   0,   0,   0,   0, 255, 255, 255, 255, 255, 255,   0],\n",
       "                [255, 255, 255, 255,   0,   0,   0,   0,   0,   0,   0,   0,   0,\n",
       "                   0,   0,   0,   0,   0, 255, 255, 255, 255, 255,   0,   0],\n",
       "                [255, 255, 255, 255, 255,   0,   0,   0,   0,   0,   0,   0,   0,\n",
       "                   0,   0,   0,   0, 255, 255, 255, 255, 255, 255,   0,   0],\n",
       "                [255, 255, 255, 255, 255,   0,   0,   0,   0,   0,   0,   0,   0,\n",
       "                   0,   0,   0,   0, 255, 255, 255, 255, 255, 255,   0,   0],\n",
       "                [  0, 255, 255, 255,   0,   0,   0,   0,   0,   0,   0,   0,   0,\n",
       "                   0,   0,   0, 255, 255, 255, 255, 255, 255, 255,   0,   0],\n",
       "                [  0, 255, 255, 255, 255,   0,   0,   0,   0,   0,   0,   0,   0,\n",
       "                   0,   0, 255, 255, 255, 255, 255, 255, 255, 255,   0,   0],\n",
       "                [255, 255, 255, 255, 255,   0,   0,   0,   0,   0,   0,   0,   0,\n",
       "                   0, 255, 255, 255, 255, 255, 255, 255, 255, 255,   0,   0],\n",
       "                [255, 255, 255, 255, 255,   0,   0,   0,   0,   0,   0,   0,   0,\n",
       "                 255, 255, 255, 255, 255, 255, 255, 255, 255,   0,   0,   0],\n",
       "                [  0, 255, 255, 255, 255, 255, 255, 255, 255,   0,   0, 255, 255,\n",
       "                 255, 255, 255, 255, 255, 255, 255, 255, 255,   0,   0,   0],\n",
       "                [  0, 255, 255, 255, 255, 255, 255, 255, 255, 255, 255, 255, 255,\n",
       "                 255, 255, 255, 255, 255, 255, 255, 255, 255,   0,   0,   0],\n",
       "                [  0,   0, 255, 255, 255, 255, 255, 255, 255, 255, 255, 255, 255,\n",
       "                 255, 255,   0,   0, 255, 255, 255, 255,   0,   0,   0,   0],\n",
       "                [  0,   0,   0, 255, 255, 255, 255, 255, 255, 255, 255, 255, 255,\n",
       "                 255,   0,   0,   0, 255, 255, 255, 255,   0,   0,   0,   0],\n",
       "                [  0,   0,   0,   0,   0, 255, 255, 255, 255, 255, 255, 255, 255,\n",
       "                   0,   0,   0,   0, 255, 255, 255, 255,   0,   0,   0,   0],\n",
       "                [  0,   0,   0,   0,   0,   0,   0,   0,   0,   0,   0,   0,   0,\n",
       "                   0,   0,   0, 255, 255, 255, 255, 255,   0,   0,   0,   0],\n",
       "                [  0,   0,   0,   0,   0,   0,   0,   0,   0,   0,   0,   0,   0,\n",
       "                   0,   0,   0, 255, 255, 255, 255, 255,   0,   0,   0,   0],\n",
       "                [  0,   0,   0,   0,   0,   0,   0,   0,   0,   0,   0,   0,   0,\n",
       "                   0,   0,   0, 255, 255, 255, 255,   0,   0,   0,   0,   0],\n",
       "                [  0,   0,   0,   0,   0,   0,   0,   0,   0,   0,   0,   0,   0,\n",
       "                   0,   0,   0, 255, 255, 255, 255,   0,   0,   0,   0,   0],\n",
       "                [  0,   0,   0,   0,   0,   0,   0,   0,   0,   0,   0,   0,   0,\n",
       "                   0,   0, 255, 255, 255, 255, 255,   0,   0,   0,   0,   0],\n",
       "                [  0,   0,   0,   0,   0,   0,   0,   0,   0,   0,   0,   0,   0,\n",
       "                   0,   0, 255, 255, 255, 255, 255,   0,   0,   0,   0,   0],\n",
       "                [  0,   0,   0,   0,   0,   0,   0,   0,   0,   0,   0,   0,   0,\n",
       "                   0,   0, 255, 255, 255, 255, 255,   0,   0,   0,   0,   0],\n",
       "                [  0,   0,   0,   0,   0,   0,   0,   0,   0,   0,   0,   0,   0,\n",
       "                   0,   0, 255, 255, 255, 255,   0,   0,   0,   0,   0,   0],\n",
       "                [  0,   0,   0,   0,   0,   0,   0,   0,   0,   0,   0,   0,   0,\n",
       "                   0,   0, 255, 255, 255, 255,   0,   0,   0,   0,   0,   0],\n",
       "                [  0,   0,   0,   0,   0,   0,   0,   0,   0,   0,   0,   0,   0,\n",
       "                   0,   0, 255, 255, 255, 255,   0,   0,   0,   0,   0,   0],\n",
       "                [  0,   0,   0,   0,   0,   0,   0,   0,   0,   0,   0,   0,   0,\n",
       "                   0,   0, 255, 255, 255, 255,   0,   0,   0,   0,   0,   0],\n",
       "                [  0,   0,   0,   0,   0,   0,   0,   0,   0,   0,   0,   0,   0,\n",
       "                   0, 255, 255, 255, 255,   0,   0,   0,   0,   0,   0,   0],\n",
       "                [  0,   0,   0,   0,   0,   0,   0,   0,   0,   0,   0,   0,   0,\n",
       "                   0, 255, 255, 255, 255,   0,   0,   0,   0,   0,   0,   0],\n",
       "                [  0,   0,   0,   0,   0,   0,   0,   0,   0,   0,   0,   0,   0,\n",
       "                   0, 255, 255, 255, 255,   0,   0,   0,   0,   0,   0,   0],\n",
       "                [  0,   0,   0,   0,   0,   0,   0,   0,   0,   0,   0,   0,   0,\n",
       "                   0, 255, 255, 255, 255,   0,   0,   0,   0,   0,   0,   0],\n",
       "                [  0,   0,   0,   0,   0,   0,   0,   0,   0,   0,   0,   0,   0,\n",
       "                   0, 255, 255, 255,   0,   0,   0,   0,   0,   0,   0,   0],\n",
       "                [  0,   0,   0,   0,   0,   0,   0,   0,   0,   0,   0,   0,   0,\n",
       "                 255, 255, 255, 255, 255,   0,   0,   0,   0,   0,   0,   0],\n",
       "                [  0,   0,   0,   0,   0,   0,   0,   0,   0,   0,   0,   0,   0,\n",
       "                   0, 255, 255, 255, 255,   0,   0,   0,   0,   0,   0,   0]],\n",
       "               dtype=uint8)                                                      ]],\n",
       "       dtype=object),\n",
       " 'labels': array([[6],\n",
       "        [5],\n",
       "        [0],\n",
       "        ...,\n",
       "        [2],\n",
       "        [6],\n",
       "        [6]], dtype=uint8)}"
      ]
     },
     "execution_count": 9,
     "metadata": {},
     "output_type": "execute_result"
    }
   ],
   "source": [
    "dataset"
   ]
  },
  {
   "cell_type": "code",
   "execution_count": 10,
   "id": "cd0f5cf9",
   "metadata": {},
   "outputs": [],
   "source": [
    "X_train = np.squeeze(dataset['Data'][:1000])\n",
    "y_train = np.squeeze(dataset['labels'][:1000])\n",
    "\n",
    "X_test = np.squeeze(dataset['Data'][1000:1200])\n",
    "y_test = np.squeeze(dataset['labels'][1000:1200])"
   ]
  },
  {
   "cell_type": "code",
   "execution_count": 13,
   "id": "9a58f9c2",
   "metadata": {},
   "outputs": [
    {
     "data": {
      "image/png": "[encoded data removed]",
      "text/plain": [
       "<Figure size 432x288 with 1 Axes>"
      ]
     },
     "metadata": {
      "needs_background": "light"
     },
     "output_type": "display_data"
    },
    {
     "name": "stdout",
     "output_type": "stream",
     "text": [
      "6\n"
     ]
    }
   ],
   "source": [
    "plt.imshow(X_train[20], cmap='gray')\n",
    "plt.show()\n",
    "print(y_train[20])"
   ]
  },
  {
   "cell_type": "code",
   "execution_count": 14,
   "id": "e76be77d",
   "metadata": {},
   "outputs": [
    {
     "data": {
      "image/png": "[encoded data removed]",
      "text/plain": [
       "<Figure size 432x288 with 1 Axes>"
      ]
     },
     "metadata": {
      "needs_background": "light"
     },
     "output_type": "display_data"
    },
    {
     "name": "stdout",
     "output_type": "stream",
     "text": [
      "6\n"
     ]
    },
    {
     "data": {
      "image/png": "[encoded data removed]",
      "text/plain": [
       "<Figure size 432x288 with 1 Axes>"
      ]
     },
     "metadata": {
      "needs_background": "light"
     },
     "output_type": "display_data"
    },
    {
     "name": "stdout",
     "output_type": "stream",
     "text": [
      "3\n"
     ]
    },
    {
     "data": {
      "image/png": "[encoded data removed]",
      "text/plain": [
       "<Figure size 432x288 with 1 Axes>"
      ]
     },
     "metadata": {
      "needs_background": "light"
     },
     "output_type": "display_data"
    },
    {
     "name": "stdout",
     "output_type": "stream",
     "text": [
      "4\n"
     ]
    },
    {
     "data": {
      "image/png": "[encoded data removed]",
      "text/plain": [
       "<Figure size 432x288 with 1 Axes>"
      ]
     },
     "metadata": {
      "needs_background": "light"
     },
     "output_type": "display_data"
    },
    {
     "name": "stdout",
     "output_type": "stream",
     "text": [
      "4\n"
     ]
    },
    {
     "data": {
      "image/png": "[encoded data removed]",
      "text/plain": [
       "<Figure size 432x288 with 1 Axes>"
      ]
     },
     "metadata": {
      "needs_background": "light"
     },
     "output_type": "display_data"
    },
    {
     "name": "stdout",
     "output_type": "stream",
     "text": [
      "0\n"
     ]
    },
    {
     "data": {
      "image/png": "[encoded data removed]",
      "text/plain": [
       "<Figure size 432x288 with 1 Axes>"
      ]
     },
     "metadata": {
      "needs_background": "light"
     },
     "output_type": "display_data"
    },
    {
     "name": "stdout",
     "output_type": "stream",
     "text": [
      "7\n"
     ]
    },
    {
     "data": {
      "image/png": "[encoded data removed]",
      "text/plain": [
       "<Figure size 432x288 with 1 Axes>"
      ]
     },
     "metadata": {
      "needs_background": "light"
     },
     "output_type": "display_data"
    },
    {
     "name": "stdout",
     "output_type": "stream",
     "text": [
      "2\n"
     ]
    },
    {
     "data": {
      "image/png": "[encoded data removed]",
      "text/plain": [
       "<Figure size 432x288 with 1 Axes>"
      ]
     },
     "metadata": {
      "needs_background": "light"
     },
     "output_type": "display_data"
    },
    {
     "name": "stdout",
     "output_type": "stream",
     "text": [
      "7\n"
     ]
    },
    {
     "data": {
      "image/png": "[encoded data removed]",
      "text/plain": [
       "<Figure size 432x288 with 1 Axes>"
      ]
     },
     "metadata": {
      "needs_background": "light"
     },
     "output_type": "display_data"
    },
    {
     "name": "stdout",
     "output_type": "stream",
     "text": [
      "8\n"
     ]
    },
    {
     "data": {
      "image/png": "[encoded data removed]",
      "text/plain": [
       "<Figure size 432x288 with 1 Axes>"
      ]
     },
     "metadata": {
      "needs_background": "light"
     },
     "output_type": "display_data"
    },
    {
     "name": "stdout",
     "output_type": "stream",
     "text": [
      "6\n"
     ]
    }
   ],
   "source": [
    "for i in range(20, 30):\n",
    "    plt.imshow(X_train[i], cmap='gray')\n",
    "    plt.show()\n",
    "    print(y_train[i])"
   ]
  },
  {
   "cell_type": "code",
   "execution_count": 16,
   "id": "5f428c4c",
   "metadata": {},
   "outputs": [],
   "source": [
    "X_train_5by5 = [resize(img, (5, 5)) for img in X_train]\n",
    "X_test_5by_5 = [resize(img, (5, 5)) for img in X_test]"
   ]
  },
  {
   "cell_type": "code",
   "execution_count": 17,
   "id": "dde2f1a4",
   "metadata": {},
   "outputs": [
    {
     "data": {
      "image/png": "[encoded data removed]",
      "text/plain": [
       "<Figure size 432x288 with 1 Axes>"
      ]
     },
     "metadata": {
      "needs_background": "light"
     },
     "output_type": "display_data"
    }
   ],
   "source": [
    "image = X_train_5by5[1]\n",
    "plt.imshow(image, cmap='gray')\n",
    "plt.show()"
   ]
  },
  {
   "cell_type": "code",
   "execution_count": 18,
   "id": "db1890bb",
   "metadata": {},
   "outputs": [],
   "source": [
    "X_train = [x.reshape(25) for x in X_train_5by5]\n",
    "X_test = [x.reshape(25) for x in X_test_5by_5]"
   ]
  },
  {
   "cell_type": "markdown",
   "id": "b10d9ae4",
   "metadata": {},
   "source": [
    "# KNN"
   ]
  },
  {
   "cell_type": "code",
   "execution_count": 19,
   "id": "850f4773",
   "metadata": {},
   "outputs": [
    {
     "data": {
      "text/plain": [
       "KNeighborsClassifier(n_neighbors=3)"
      ]
     },
     "execution_count": 19,
     "metadata": {},
     "output_type": "execute_result"
    }
   ],
   "source": [
    "from sklearn.neighbors import KNeighborsClassifier\n",
    "k = 3\n",
    "knn_model = KNeighborsClassifier(n_neighbors= k)\n",
    "knn_model.fit(X_train, y_train)"
   ]
  },
  {
   "cell_type": "code",
   "execution_count": 23,
   "id": "3b3dbd85",
   "metadata": {},
   "outputs": [
    {
     "name": "stdout",
     "output_type": "stream",
     "text": [
      "actual = 2\n",
      "predict=[3]\n"
     ]
    }
   ],
   "source": [
    "sample = 9\n",
    "X = [X_test[sample]]\n",
    "predict_class = knn_model.predict(X)\n",
    "actual_class = y_test[sample]\n",
    "print(f'actual = {actual_class}\\npredict={predict_class}')\n"
   ]
  },
  {
   "cell_type": "code",
   "execution_count": 24,
   "id": "9d35e8db",
   "metadata": {},
   "outputs": [
    {
     "name": "stdout",
     "output_type": "stream",
     "text": [
      "[[0.         0.         0.33333333 0.66666667 0.         0.\n",
      "  0.         0.         0.         0.        ]]\n"
     ]
    }
   ],
   "source": [
    "print(knn_model.predict_proba(X))"
   ]
  },
  {
   "cell_type": "code",
   "execution_count": 25,
   "id": "62d97048",
   "metadata": {},
   "outputs": [],
   "source": [
    "accuracy = knn_model.score(X_test, y_test)"
   ]
  },
  {
   "cell_type": "code",
   "execution_count": 26,
   "id": "59e14d38",
   "metadata": {},
   "outputs": [
    {
     "name": "stdout",
     "output_type": "stream",
     "text": [
      "0.96\n"
     ]
    }
   ],
   "source": [
    "print(accuracy)"
   ]
  }
 ],
 "metadata": {
  "kernelspec": {
   "display_name": "Python 3 (ipykernel)",
   "language": "python",
   "name": "python3"
  },
  "language_info": {
   "codemirror_mode": {
    "name": "ipython",
    "version": 3
   },
   "file_extension": ".py",
   "mimetype": "text/x-python",
   "name": "python",
   "nbconvert_exporter": "python",
   "pygments_lexer": "ipython3",
   "version": "3.9.12"
  }
 },
 "nbformat": 4,
 "nbformat_minor": 5
}
