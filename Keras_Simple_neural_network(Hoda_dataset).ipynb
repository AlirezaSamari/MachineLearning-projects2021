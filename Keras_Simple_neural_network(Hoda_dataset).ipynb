{
  "nbformat": 4,
  "nbformat_minor": 0,
  "metadata": {
    "colab": {
      "provenance": [],
      "collapsed_sections": [],
      "mount_file_id": "1zJqCbwvnrghn59uk6hx8p9BFT3CGkXlr",
      "authorship_tag": "ABX9TyPpOJTgusc2NNF9iVEImM1Y",
      "include_colab_link": true
    },
    "kernelspec": {
      "name": "python3",
      "display_name": "Python 3"
    },
    "language_info": {
      "name": "python"
    }
  },
  "cells": [
    {
      "cell_type": "markdown",
      "metadata": {
        "id": "view-in-github",
        "colab_type": "text"
      },
      "source": [
        "<a href=\"https://colab.research.google.com/github/AlirezaSamari/MachineLearning-projects2021/blob/main/Keras_Simple_neural_network(Hoda_dataset).ipynb\" target=\"_parent\"><img src=\"https://colab.research.google.com/assets/colab-badge.svg\" alt=\"Open In Colab\"/></a>"
      ]
    },
    {
      "cell_type": "code",
      "source": [
        "import keras\n",
        "import tensorflow as tf\n",
        "from keras.models import Sequential\n",
        "from keras.layers import Dense, Activation\n",
        "import numpy as np"
      ],
      "metadata": {
        "id": "8epkqgvAxjiq"
      },
      "execution_count": null,
      "outputs": []
    },
    {
      "cell_type": "markdown",
      "source": [
        "Functions"
      ],
      "metadata": {
        "id": "QQL4FrdvyBu3"
      }
    },
    {
      "cell_type": "code",
      "source": [
        "import cv2\n",
        "from scipy import io\n",
        "\n",
        "def load_hoda(training_sample_size=1000, test_sample_size=200, size=5):\n",
        "    #load dataset\n",
        "    trs = training_sample_size\n",
        "    tes = test_sample_size\n",
        "    dataset = io.loadmat('/gdrive/My Drive/Deep learning/data/Data_hoda_full.mat')\n",
        "\n",
        "    #test and training set\n",
        "    X_train_orginal = np.squeeze(dataset['Data'][:trs])\n",
        "    y_train = np.squeeze(dataset['labels'][:trs])\n",
        "    X_test_original = np.squeeze(dataset['Data'][trs:trs+tes])\n",
        "    y_test = np.squeeze(dataset['labels'][trs:trs+tes])\n",
        "\n",
        "    #resize\n",
        "    X_train_5by5 = [cv2.resize(img, dsize=(size, size)) for img in X_train_orginal]\n",
        "    X_test_5by_5 = [cv2.resize(img, dsize=(size, size)) for img in X_test_original]\n",
        "    #reshape\n",
        "    X_train = [x.reshape(size*size) for x in X_train_5by5]\n",
        "    X_test = [x.reshape(size*size) for x in X_test_5by_5]\n",
        "    \n",
        "    return X_train, y_train, X_test, y_test"
      ],
      "metadata": {
        "id": "CjWI4M9pyqot"
      },
      "execution_count": null,
      "outputs": []
    },
    {
      "cell_type": "markdown",
      "source": [
        "Load Data"
      ],
      "metadata": {
        "id": "N7VOcDc0y39V"
      }
    },
    {
      "cell_type": "code",
      "source": [
        "from google.colab import drive\n",
        "drive.mount('/gdrive')"
      ],
      "metadata": {
        "colab": {
          "base_uri": "https://localhost:8080/"
        },
        "id": "MPw59qE83F2U",
        "outputId": "081a2e19-a56c-4f61-9e72-6f56c73c7469"
      },
      "execution_count": null,
      "outputs": [
        {
          "output_type": "stream",
          "name": "stdout",
          "text": [
            "Mounted at /gdrive\n"
          ]
        }
      ]
    },
    {
      "cell_type": "code",
      "source": [
        "np.random.seed(123)"
      ],
      "metadata": {
        "id": "zBjjAilh9Xch"
      },
      "execution_count": null,
      "outputs": []
    },
    {
      "cell_type": "code",
      "source": [
        "X_train_o, y_train_o, X_test_o, y_test_o = load_hoda()"
      ],
      "metadata": {
        "id": "cQgticV9MGMN"
      },
      "execution_count": null,
      "outputs": []
    },
    {
      "cell_type": "code",
      "source": [
        "def data_info(X_train, y_train, X_test, y_test):\n",
        "  print('____________________________________________________________________________________')\n",
        "  print('X_train, y_train, X_test, y_test')\n",
        "  print('type: ',type(X_train), type(y_train), type(X_test), type(y_test))\n",
        "  print('shape: ',np.shape(X_train), np.shape(y_train), np.shape(X_test), np.shape(y_test))\n",
        "  print(y_train[0])\n",
        "  print('____________________________________________________________________________________')"
      ],
      "metadata": {
        "id": "FQ1mizARSREE"
      },
      "execution_count": null,
      "outputs": []
    },
    {
      "cell_type": "code",
      "source": [
        "# Preprocess input data for Keras.\n",
        "x_train = np.array(X_train_o)\n",
        "y_train = tf.keras.utils.to_categorical(y_train_o)\n",
        "x_test  = np.array(X_test_o)\n",
        "y_test  = tf.keras.utils.to_categorical(y_test_o)"
      ],
      "metadata": {
        "id": "LsjQ1dsPUzYv"
      },
      "execution_count": null,
      "outputs": []
    },
    {
      "cell_type": "code",
      "source": [
        "print(data_info(X_train_o, y_train_o, X_test_o, y_test_o))\n",
        "print(data_info(x_train, y_train, x_test, y_test))"
      ],
      "metadata": {
        "colab": {
          "base_uri": "https://localhost:8080/"
        },
        "id": "7ZVVxNh8V5_a",
        "outputId": "0175b5c2-a9f8-42f5-c570-6667b344afcf"
      },
      "execution_count": null,
      "outputs": [
        {
          "output_type": "stream",
          "name": "stdout",
          "text": [
            "____________________________________________________________________________________\n",
            "X_train, y_train, X_test, y_test\n",
            "type:  <class 'list'> <class 'numpy.ndarray'> <class 'list'> <class 'numpy.ndarray'>\n",
            "shape:  (1000, 25) (1000,) (200, 25) (200,)\n",
            "6\n",
            "____________________________________________________________________________________\n",
            "None\n",
            "____________________________________________________________________________________\n",
            "X_train, y_train, X_test, y_test\n",
            "type:  <class 'numpy.ndarray'> <class 'numpy.ndarray'> <class 'numpy.ndarray'> <class 'numpy.ndarray'>\n",
            "shape:  (1000, 25) (1000, 10) (200, 25) (200, 10)\n",
            "[0. 0. 0. 0. 0. 0. 1. 0. 0. 0.]\n",
            "____________________________________________________________________________________\n",
            "None\n"
          ]
        }
      ]
    },
    {
      "cell_type": "code",
      "source": [
        "x_train = x_train.astype('float32')\n",
        "x_test = x_test.astype('float32')\n",
        "x_train /= 255\n",
        "x_test  /= 255"
      ],
      "metadata": {
        "id": "PPl_pUssXBnt"
      },
      "execution_count": null,
      "outputs": []
    },
    {
      "cell_type": "code",
      "source": [
        "from keras.engine.input_layer import InputLayer\n",
        "model = tf.keras.Sequential()\n",
        "model.add(Dense(64, activation=\"relu\", name=\"layer1\", input_dim = 25))\n",
        "model.add(Dense(32, activation='relu', name=\"layer2\"))\n",
        "model.add(Dense(10, activation='softmax', name=\"layer3\"))"
      ],
      "metadata": {
        "id": "nrMT2InS-DJ4"
      },
      "execution_count": null,
      "outputs": []
    },
    {
      "cell_type": "code",
      "source": [
        "model.summary()"
      ],
      "metadata": {
        "colab": {
          "base_uri": "https://localhost:8080/"
        },
        "id": "mzbis0Unb1sl",
        "outputId": "d4720b39-223e-46df-afcb-df66e481d584"
      },
      "execution_count": null,
      "outputs": [
        {
          "output_type": "stream",
          "name": "stdout",
          "text": [
            "Model: \"sequential_12\"\n",
            "_________________________________________________________________\n",
            " Layer (type)                Output Shape              Param #   \n",
            "=================================================================\n",
            " layer1 (Dense)              (None, 64)                1664      \n",
            "                                                                 \n",
            " layer2 (Dense)              (None, 32)                2080      \n",
            "                                                                 \n",
            " layer3 (Dense)              (None, 10)                330       \n",
            "                                                                 \n",
            "=================================================================\n",
            "Total params: 4,074\n",
            "Trainable params: 4,074\n",
            "Non-trainable params: 0\n",
            "_________________________________________________________________\n"
          ]
        }
      ]
    },
    {
      "cell_type": "code",
      "source": [
        "model.compile(optimizer='rmsprop', loss='categorical_crossentropy', metrics=['accuracy'])"
      ],
      "metadata": {
        "id": "xz2zvbfKcJts"
      },
      "execution_count": null,
      "outputs": []
    },
    {
      "cell_type": "code",
      "source": [
        "model.fit(x_train, y_train, batch_size=64, epochs=30, validation_split=0.2);"
      ],
      "metadata": {
        "colab": {
          "base_uri": "https://localhost:8080/"
        },
        "id": "RJNxUUoAdPwq",
        "outputId": "e4f7b7b7-a9e5-43e0-e2de-3b7111fbde40"
      },
      "execution_count": null,
      "outputs": [
        {
          "output_type": "stream",
          "name": "stdout",
          "text": [
            "Epoch 1/30\n",
            "13/13 [==============================] - 1s 17ms/step - loss: 2.1948 - accuracy: 0.2225 - val_loss: 2.0253 - val_accuracy: 0.4550\n",
            "Epoch 2/30\n",
            "13/13 [==============================] - 0s 5ms/step - loss: 1.9390 - accuracy: 0.4975 - val_loss: 1.7839 - val_accuracy: 0.6350\n",
            "Epoch 3/30\n",
            "13/13 [==============================] - 0s 4ms/step - loss: 1.7073 - accuracy: 0.6450 - val_loss: 1.5530 - val_accuracy: 0.7300\n",
            "Epoch 4/30\n",
            "13/13 [==============================] - 0s 5ms/step - loss: 1.4776 - accuracy: 0.7013 - val_loss: 1.3384 - val_accuracy: 0.7550\n",
            "Epoch 5/30\n",
            "13/13 [==============================] - 0s 4ms/step - loss: 1.2636 - accuracy: 0.7663 - val_loss: 1.1460 - val_accuracy: 0.8000\n",
            "Epoch 6/30\n",
            "13/13 [==============================] - 0s 4ms/step - loss: 1.0748 - accuracy: 0.7925 - val_loss: 0.9748 - val_accuracy: 0.8050\n",
            "Epoch 7/30\n",
            "13/13 [==============================] - 0s 4ms/step - loss: 0.9207 - accuracy: 0.8050 - val_loss: 0.8579 - val_accuracy: 0.8200\n",
            "Epoch 8/30\n",
            "13/13 [==============================] - 0s 4ms/step - loss: 0.7929 - accuracy: 0.8388 - val_loss: 0.7529 - val_accuracy: 0.8350\n",
            "Epoch 9/30\n",
            "13/13 [==============================] - 0s 6ms/step - loss: 0.6971 - accuracy: 0.8438 - val_loss: 0.6630 - val_accuracy: 0.8400\n",
            "Epoch 10/30\n",
            "13/13 [==============================] - 0s 5ms/step - loss: 0.6161 - accuracy: 0.8537 - val_loss: 0.6058 - val_accuracy: 0.8400\n",
            "Epoch 11/30\n",
            "13/13 [==============================] - 0s 5ms/step - loss: 0.5555 - accuracy: 0.8612 - val_loss: 0.5725 - val_accuracy: 0.8550\n",
            "Epoch 12/30\n",
            "13/13 [==============================] - 0s 4ms/step - loss: 0.5100 - accuracy: 0.8612 - val_loss: 0.5209 - val_accuracy: 0.8550\n",
            "Epoch 13/30\n",
            "13/13 [==============================] - 0s 5ms/step - loss: 0.4679 - accuracy: 0.8763 - val_loss: 0.4915 - val_accuracy: 0.8600\n",
            "Epoch 14/30\n",
            "13/13 [==============================] - 0s 4ms/step - loss: 0.4400 - accuracy: 0.8725 - val_loss: 0.4686 - val_accuracy: 0.8500\n",
            "Epoch 15/30\n",
            "13/13 [==============================] - 0s 6ms/step - loss: 0.4115 - accuracy: 0.8750 - val_loss: 0.4493 - val_accuracy: 0.8700\n",
            "Epoch 16/30\n",
            "13/13 [==============================] - 0s 5ms/step - loss: 0.3886 - accuracy: 0.8813 - val_loss: 0.4339 - val_accuracy: 0.8650\n",
            "Epoch 17/30\n",
            "13/13 [==============================] - 0s 5ms/step - loss: 0.3712 - accuracy: 0.8813 - val_loss: 0.4181 - val_accuracy: 0.8850\n",
            "Epoch 18/30\n",
            "13/13 [==============================] - 0s 4ms/step - loss: 0.3531 - accuracy: 0.8950 - val_loss: 0.4037 - val_accuracy: 0.8800\n",
            "Epoch 19/30\n",
            "13/13 [==============================] - 0s 4ms/step - loss: 0.3341 - accuracy: 0.8950 - val_loss: 0.4005 - val_accuracy: 0.8850\n",
            "Epoch 20/30\n",
            "13/13 [==============================] - 0s 5ms/step - loss: 0.3265 - accuracy: 0.8963 - val_loss: 0.3929 - val_accuracy: 0.8750\n",
            "Epoch 21/30\n",
            "13/13 [==============================] - 0s 5ms/step - loss: 0.3128 - accuracy: 0.9025 - val_loss: 0.3821 - val_accuracy: 0.8950\n",
            "Epoch 22/30\n",
            "13/13 [==============================] - 0s 5ms/step - loss: 0.3019 - accuracy: 0.9087 - val_loss: 0.3723 - val_accuracy: 0.8900\n",
            "Epoch 23/30\n",
            "13/13 [==============================] - 0s 4ms/step - loss: 0.2923 - accuracy: 0.9075 - val_loss: 0.3787 - val_accuracy: 0.8600\n",
            "Epoch 24/30\n",
            "13/13 [==============================] - 0s 5ms/step - loss: 0.2834 - accuracy: 0.9100 - val_loss: 0.3632 - val_accuracy: 0.8950\n",
            "Epoch 25/30\n",
            "13/13 [==============================] - 0s 4ms/step - loss: 0.2737 - accuracy: 0.9175 - val_loss: 0.3484 - val_accuracy: 0.8950\n",
            "Epoch 26/30\n",
            "13/13 [==============================] - 0s 4ms/step - loss: 0.2662 - accuracy: 0.9150 - val_loss: 0.3481 - val_accuracy: 0.9050\n",
            "Epoch 27/30\n",
            "13/13 [==============================] - 0s 4ms/step - loss: 0.2625 - accuracy: 0.9187 - val_loss: 0.3447 - val_accuracy: 0.9050\n",
            "Epoch 28/30\n",
            "13/13 [==============================] - 0s 4ms/step - loss: 0.2523 - accuracy: 0.9150 - val_loss: 0.3363 - val_accuracy: 0.9050\n",
            "Epoch 29/30\n",
            "13/13 [==============================] - 0s 4ms/step - loss: 0.2474 - accuracy: 0.9187 - val_loss: 0.3415 - val_accuracy: 0.8950\n",
            "Epoch 30/30\n",
            "13/13 [==============================] - 0s 5ms/step - loss: 0.2410 - accuracy: 0.9225 - val_loss: 0.3277 - val_accuracy: 0.9050\n"
          ]
        }
      ]
    },
    {
      "cell_type": "code",
      "source": [
        "loss, acc = model.evaluate(x_test, y_test)\n",
        "print(f'loss = {loss}\\nacc={acc}')"
      ],
      "metadata": {
        "colab": {
          "base_uri": "https://localhost:8080/"
        },
        "id": "5Ln1IT0pfzrG",
        "outputId": "48cee549-2eb4-41ad-bba1-e9fa7685671d"
      },
      "execution_count": null,
      "outputs": [
        {
          "output_type": "stream",
          "name": "stdout",
          "text": [
            "7/7 [==============================] - 0s 2ms/step - loss: 0.2801 - accuracy: 0.9200\n",
            "loss = 0.2800646424293518\n",
            "acc=0.9200000166893005\n"
          ]
        }
      ]
    },
    {
      "cell_type": "code",
      "source": [
        "predicted_classes =np.argmax(model.predict(x_test), axis = 1)\n",
        "print(predicted_classes)\n",
        "print(y_test_o)"
      ],
      "metadata": {
        "colab": {
          "base_uri": "https://localhost:8080/"
        },
        "id": "vlC4ECFOhw6s",
        "outputId": "eba16d87-ffbc-48aa-cb20-d8fa4d175978"
      },
      "execution_count": null,
      "outputs": [
        {
          "output_type": "stream",
          "name": "stdout",
          "text": [
            "[7 2 3 1 5 5 4 7 3 2 0 8 8 0 2 9 3 6 7 4 0 3 6 3 9 2 7 5 2 9 2 5 5 8 9 2 5\n",
            " 1 4 8 8 4 7 2 1 2 7 9 0 3 7 1 7 5 2 9 8 2 9 8 8 6 6 6 7 6 2 4 2 4 4 5 9 1\n",
            " 8 4 0 5 6 2 4 3 2 7 7 7 7 1 8 1 7 8 7 7 8 9 7 2 3 1 0 2 9 6 3 5 5 0 0 9 6\n",
            " 7 9 3 9 9 8 7 9 2 5 2 5 5 9 6 9 2 0 3 7 9 8 2 9 0 4 1 8 2 2 3 1 2 9 3 8 6\n",
            " 7 0 9 9 0 7 6 1 4 0 9 3 7 0 7 1 9 4 7 3 4 1 5 6 7 9 1 3 5 3 5 7 4 1 3 3 1\n",
            " 1 3 3 8 9 6 7 7 2 3 0 1 4 9 5]\n",
            "[7 2 3 1 5 5 4 7 3 2 0 8 8 0 2 9 3 6 7 4 0 3 6 3 9 2 7 5 2 9 7 5 5 8 9 6 5\n",
            " 1 4 8 8 4 7 7 1 2 7 9 0 3 7 4 7 5 2 9 8 2 9 8 8 6 6 6 6 6 2 4 3 4 4 5 9 1\n",
            " 8 2 0 5 6 2 4 3 2 7 7 7 7 1 8 1 7 8 7 7 8 9 3 2 3 1 0 2 9 6 3 5 5 0 0 3 6\n",
            " 7 9 3 9 9 8 7 9 2 5 2 5 5 9 6 9 2 0 3 7 6 5 2 9 0 4 1 8 2 2 3 0 2 9 3 8 6\n",
            " 7 0 9 9 0 7 6 5 4 7 9 3 7 0 7 1 9 4 7 3 4 1 5 6 7 9 1 3 5 4 5 7 4 1 3 3 1\n",
            " 2 3 3 8 9 6 7 7 2 3 0 1 4 9 5]\n"
          ]
        }
      ]
    }
  ]
}